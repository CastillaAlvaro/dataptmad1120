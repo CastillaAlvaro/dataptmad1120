{
 "cells": [
  {
   "cell_type": "code",
   "execution_count": 126,
   "metadata": {},
   "outputs": [
    {
     "name": "stdin",
     "output_type": "stream",
     "text": [
      "Enter minimum string length:  1\n",
      "Enter maximum string length:  10\n",
      "How many random strings to generate?  3\n"
     ]
    },
    {
     "name": "stdout",
     "output_type": "stream",
     "text": [
      "['g57sr5kzx', 'z5ssvmrup', '3jloz4rgj']\n"
     ]
    }
   ],
   "source": [
    "#Challenge 2\n",
    "\n",
    "\"\"\"\n",
    "The code below generates a given number of random strings that consists of numbers and \n",
    "lower case English letters. You can also define the range of the variable lengths of\n",
    "the strings being generated.\n",
    "\n",
    "The code is functional but has a lot of room for improvement. Use what you have learned\n",
    "about simple and efficient code, refactor the code.\n",
    "\"\"\"\n",
    "\n",
    "def BatchStringGenerator(n, a, b):\n",
    "    \n",
    "    import random\n",
    "    import string\n",
    "        \n",
    "    if a < b:\n",
    "            \n",
    "            # string.ascii_lowercase returns a string with lowercase characters.\n",
    "            # string.digits returns a string with numeric characters\n",
    "            \n",
    "            \n",
    "            string_lowercase = [''.join(random.choice(string.ascii_lowercase + string.digits)  for i in range(a, b)) for i in range(n)]\n",
    "            \n",
    "            return string_lowercase\n",
    "\n",
    "\n",
    "\n",
    "a = input('Enter minimum string length: ')\n",
    "b = input('Enter maximum string length: ')\n",
    "n = input('How many random strings to generate? ')\n",
    "\n",
    "print(BatchStringGenerator(int(n), int(a), int(b)))"
   ]
  },
  {
   "cell_type": "code",
   "execution_count": 192,
   "metadata": {},
   "outputs": [
    {
     "name": "stdout",
     "output_type": "stream",
     "text": [
      "HolaHolaHola\n"
     ]
    }
   ],
   "source": [
    "# def my_function(n, a, b):\n",
    "    \n",
    "import random\n",
    "import string\n",
    "    \n",
    "my_list =['Hola','Hola','Hola']\n",
    "    \n",
    "x = (''.join(my_list))\n",
    "\n",
    "print(x)"
   ]
  },
  {
   "cell_type": "code",
   "execution_count": null,
   "metadata": {},
   "outputs": [],
   "source": []
  }
 ],
 "metadata": {
  "kernelspec": {
   "display_name": "Python [conda env:ironhack_env]",
   "language": "python",
   "name": "conda-env-ironhack_env-py"
  },
  "language_info": {
   "codemirror_mode": {
    "name": "ipython",
    "version": 3
   },
   "file_extension": ".py",
   "mimetype": "text/x-python",
   "name": "python",
   "nbconvert_exporter": "python",
   "pygments_lexer": "ipython3",
   "version": "3.8.5"
  }
 },
 "nbformat": 4,
 "nbformat_minor": 4
}
