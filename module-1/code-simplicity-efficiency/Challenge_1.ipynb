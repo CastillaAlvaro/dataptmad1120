{
 "cells": [
  {
   "cell_type": "code",
   "execution_count": 5,
   "metadata": {},
   "outputs": [
    {
     "name": "stdout",
     "output_type": "stream",
     "text": [
      "Welcome to this calculator!\n",
      "It can add and subtract whole numbers from zero to five\n"
     ]
    },
    {
     "name": "stdin",
     "output_type": "stream",
     "text": [
      "Please choose your first number (zero to five):  5\n",
      "What do you want to do? plus or minus:  plus\n",
      "Please choose your second number (zero to five):  1\n"
     ]
    },
    {
     "name": "stdout",
     "output_type": "stream",
     "text": [
      "5 plus 1 equals 6\n",
      "Thanks for using this calculator, goodbye :)\n"
     ]
    }
   ],
   "source": [
    "#Challenge 1\n",
    "\n",
    "print('Welcome to this calculator!')\n",
    "print('It can add and subtract whole numbers from zero to five')\n",
    "\n",
    "a = int(input('Please choose your first number (zero to five): '))\n",
    "b = input('What do you want to do? plus or minus: ')\n",
    "c = int(input('Please choose your second number (zero to five): '))\n",
    "\n",
    "if a|c not in range(0,6):\n",
    "\n",
    "    print((\"I am not able to answer this question. Check your input.\"))\n",
    "    \n",
    "\n",
    "if a and c in range (0,6) and b == 'plus':\n",
    "    print(f'{a} plus {c} equals {a + c}')\n",
    "\n",
    "    \n",
    "elif a and c in range (0,6) and b == 'minus':\n",
    "    print(f'{a} minus {c} equals {a-c}')\n",
    "    \n",
    "\n",
    "print(\"Thanks for using this calculator, goodbye :)\")"
   ]
  },
  {
   "cell_type": "code",
   "execution_count": null,
   "metadata": {},
   "outputs": [],
   "source": []
  }
 ],
 "metadata": {
  "kernelspec": {
   "display_name": "Python [conda env:ironhack_env]",
   "language": "python",
   "name": "conda-env-ironhack_env-py"
  },
  "language_info": {
   "codemirror_mode": {
    "name": "ipython",
    "version": 3
   },
   "file_extension": ".py",
   "mimetype": "text/x-python",
   "name": "python",
   "nbconvert_exporter": "python",
   "pygments_lexer": "ipython3",
   "version": "3.8.5"
  }
 },
 "nbformat": 4,
 "nbformat_minor": 4
}
