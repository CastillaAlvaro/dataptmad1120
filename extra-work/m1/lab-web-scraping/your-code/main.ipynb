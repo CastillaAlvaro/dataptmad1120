{
 "cells": [
  {
   "cell_type": "markdown",
   "metadata": {},
   "source": [
    "# Web Scraping Lab\n",
    "\n",
    "You will find in this notebook some scrapy exercises to practise your scraping skills.\n",
    "\n",
    "**Tips:**\n",
    "\n",
    "- Check the response status code for each request to ensure you have obtained the intended content.\n",
    "- Print the response text in each request to understand the kind of info you are getting and its format.\n",
    "- Check for patterns in the response text to extract the data/info requested in each question.\n",
    "- Visit the urls below and take a look at their source code through Chrome DevTools. You'll need to identify the html tags, special class names, etc used in the html content you are expected to extract.\n",
    "\n",
    "**Resources**:\n",
    "- [Requests library](http://docs.python-requests.org/en/master/#the-user-guide)\n",
    "- [Beautiful Soup Doc](https://www.crummy.com/software/BeautifulSoup/bs4/doc/)\n",
    "- [Urllib](https://docs.python.org/3/library/urllib.html#module-urllib)\n",
    "- [re lib](https://docs.python.org/3/library/re.html)\n",
    "- [lxml lib](https://lxml.de/)\n",
    "- [Scrapy](https://scrapy.org/)\n",
    "- [List of HTTP status codes](https://en.wikipedia.org/wiki/List_of_HTTP_status_codes)\n",
    "- [HTML basics](http://www.simplehtmlguide.com/cheatsheet.php)\n",
    "- [CSS basics](https://www.cssbasics.com/#page_start)"
   ]
  },
  {
   "cell_type": "markdown",
   "metadata": {},
   "source": [
    "#### Below are the libraries and modules you may need. `requests`,  `BeautifulSoup` and `pandas` are already imported for you. If you prefer to use additional libraries feel free to do it."
   ]
  },
  {
   "cell_type": "code",
   "execution_count": 1,
   "metadata": {},
   "outputs": [],
   "source": [
    "import requests\n",
    "from bs4 import BeautifulSoup\n",
    "import pandas as pd"
   ]
  },
  {
   "cell_type": "markdown",
   "metadata": {},
   "source": [
    "#### Download, parse (using BeautifulSoup), and print the content from the Trending Developers page from GitHub:"
   ]
  },
  {
   "cell_type": "code",
   "execution_count": 2,
   "metadata": {},
   "outputs": [],
   "source": [
    "# This is the url you will scrape in this exercise\n",
    "url = 'https://github.com/trending/developers'"
   ]
  },
  {
   "cell_type": "code",
   "execution_count": 3,
   "metadata": {},
   "outputs": [
    {
     "data": {
      "text/plain": [
       "b'\\n\\n\\n\\n\\n<!DOCTYPE html>\\n<html lang=\"en\">\\n  <head>\\n    <meta charset=\"utf-8\">\\n  <link rel=\"dns-prefetch\" href=\"https://github.githubassets.com\">\\n  <link rel=\"dns-prefetch\" href=\"https://avatars.githubusercontent.com\">\\n  <link rel=\"dns-prefetch\" href=\"https://github-cloud.s3.amazonaws.com\">\\n  <link rel=\"dns-prefetch\" href=\"https://user-images.githubusercontent.com/\">\\n\\n\\n\\n  <link crossorigin=\"anonymous\" media=\"all\" integrity=\"sha512-bvmPnIfSXuQ7bosV8Ys+XNjZ7wqcfxwStr1JGjt4ibr/TK0ycsQZAYi4/4aziAgybJgv2/5+bw4lJF7CRSRs/g==\" rel=\"stylesheet\" href=\"https://github.githubassets.com/assets/frameworks-6ef98f9c87d25ee43b6e8b15f18b3e5c.css\" />\\n  <link crossorigin=\"anonymous\" media=\"all\" integrity=\"sha512-PObAHrL4OKl01ufePPCm+vqaVnCrRAIGNsZPDveS/cv3OKPgcJRVezq7u47Kki9TWFSBtMuLS0SaThM02rKakA==\" rel=\"stylesheet\" href=\"https://github.githubassets.com/assets/site-3ce6c01eb2f838a974d6e7de3cf0a6fa.css\" />\\n    <link crossorigin=\"anonymous\" media=\"all\" integrity=\"sha512-AlH6sUJvk90TnPJ2ZFUdLkcCgs4+wDdZ2K+R8q6z/6ObMisxDy+ZD1c+6qQoDZzDMFtQzgNHoXDfKxr9TCk1Nw==\" rel=\"stylesheet\" href=\"https://github.githubassets.com/assets/behaviors-0251fab1426f93dd139cf27664551d2e.css\" />\\n    \\n    \\n    \\n    <link crossorigin=\"anonymous\" media=\"all\" integrity=\"sha512-lUQtLBNfnPZGNrXZBdqsCclZ51MHfv5fM9S8DzawNSMbKNvMypo/v/ITnXoiXnuLeirFG84yqiWUsFWuyBoo/g==\" rel=\"stylesheet\" href=\"https://github.githubassets.com/assets/github-95442d2c135f9cf64636b5d905daac09.css\" />\\n\\n  <script crossorigin=\"anonymous\" defer=\"defer\" integrity=\"sha512-8K2vvwbW+6H27Nad5ydg8PA2/aMD/LKq+EiK9s0U0hhVZxCI2tWBsYk9beAtisRw2j+Or5k2/F+6dk02nmj/PA==\" type=\"application/javascript\" src=\"https://github.githubassets.com/assets/environment-f0adafbf.js\"></script>\\n    <script crossorigin=\"anonymous\" defer=\"defer\" integrity=\"sha512-uegmzg6YcTlTw7auMhvPV/UsnZ1KDIdAWhaEI/R8dHN24lz0HyO2tGwv0e2gdPoMXA6AzXeJng5gP77sAU3AgA==\" type=\"application/javascript\" src=\"https://github.githubassets.com/assets/chunk-frameworks-b9e826ce.js\"></script>\\n    <script crossorigin=\"anonymous\" defer=\"defer\" integrity=\"sha512-QXxaMILp0DfaYUxUog6M69IOSK5od+MvC5CmNNsq0/QEE1oBJ9p85IQtyXIHCUaix0dF6sueet58Mpo0TOr/zg==\" type=\"application/javascript\" src=\"https://github.githubassets.com/assets/chunk-vendor-417c5a30.js\"></script>\\n  \\n  <script crossorigin=\"anonymous\" defer=\"defer\" integrity=\"sha512-rgQAjOPwcGvfcLHvGy+bY9V+kCoI6kBssVpnNL5FYlM4245ONAmGh8zs9n4lUvIRLfi6XmaUzuB0WINS2s0WWQ==\" type=\"application/javascript\" src=\"https://github.githubassets.com/assets/behaviors-ae04008c.js'"
      ]
     },
     "execution_count": 3,
     "metadata": {},
     "output_type": "execute_result"
    }
   ],
   "source": [
    "html = requests.get(url).content\n",
    "html[:2500]"
   ]
  },
  {
   "cell_type": "markdown",
   "metadata": {},
   "source": [
    "#### Display the names of the trending developers retrieved in the previous step.\n",
    "\n",
    "Your output should be a Python list of developer names. Each name should not contain any html tag.\n",
    "\n",
    "**Instructions:**\n",
    "\n",
    "1. Find out the html tag and class names used for the developer names. You can achieve this using Chrome DevTools.\n",
    "\n",
    "1. Use BeautifulSoup to extract all the html elements that contain the developer names.\n",
    "\n",
    "1. Use string manipulation techniques to replace whitespaces and linebreaks (i.e. `\\n`) in the *text* of each html element. Use a list to store the clean names.\n",
    "\n",
    "1. Print the list of names.\n",
    "\n",
    "Your output should look like below:\n",
    "\n",
    "```\n",
    "['trimstray (@trimstray)',\n",
    " 'joewalnes (JoeWalnes)',\n",
    " 'charlax (Charles-AxelDein)',\n",
    " 'ForrestKnight (ForrestKnight)',\n",
    " 'revery-ui (revery-ui)',\n",
    " 'alibaba (Alibaba)',\n",
    " 'Microsoft (Microsoft)',\n",
    " 'github (GitHub)',\n",
    " 'facebook (Facebook)',\n",
    " 'boazsegev (Bo)',\n",
    " 'google (Google)',\n",
    " 'cloudfetch',\n",
    " 'sindresorhus (SindreSorhus)',\n",
    " 'tensorflow',\n",
    " 'apache (TheApacheSoftwareFoundation)',\n",
    " 'DevonCrawford (DevonCrawford)',\n",
    " 'ARMmbed (ArmMbed)',\n",
    " 'vuejs (vuejs)',\n",
    " 'fastai (fast.ai)',\n",
    " 'QiShaoXuan (Qi)',\n",
    " 'joelparkerhenderson (JoelParkerHenderson)',\n",
    " 'torvalds (LinusTorvalds)',\n",
    " 'CyC2018',\n",
    " 'komeiji-satori (神楽坂覚々)',\n",
    " 'script-8']\n",
    " ```"
   ]
  },
  {
   "cell_type": "code",
   "execution_count": 4,
   "metadata": {},
   "outputs": [],
   "source": [
    "# your code here\n",
    "soup = BeautifulSoup(html, 'html.parser')\n",
    "element_names = soup.select(\"article h1.h3.lh-condensed\")\n",
    "element_alias = soup.select(\"article p.f4.text-normal.mb-1\")\n"
   ]
  },
  {
   "cell_type": "code",
   "execution_count": 5,
   "metadata": {},
   "outputs": [
    {
     "data": {
      "text/plain": [
       "['Dries Vints',\n",
       " 'Ariel Mashraki',\n",
       " 'Tomas Votruba',\n",
       " 'Miek Gieben',\n",
       " 'hiroki',\n",
       " 'Felix Angelov',\n",
       " 'Joakim Sørensen',\n",
       " 'Thomas Lovén',\n",
       " 'Ron Evans',\n",
       " 'Samuel Colvin',\n",
       " 'Daniel Mendler',\n",
       " 'Julien Le Coupanec',\n",
       " 'Frost Ming',\n",
       " 'Jörg Thalheim',\n",
       " 'Michele Locati',\n",
       " 'Ross Wightman',\n",
       " 'Thibault Duplessis',\n",
       " 'hrsh7th',\n",
       " 'Matthias',\n",
       " 'Wei Wang',\n",
       " 'Henrik Rydgård',\n",
       " 'Fons van der Plas',\n",
       " 'Arvid Norberg',\n",
       " 'pedrobern',\n",
       " 'Blake Blackshear']"
      ]
     },
     "execution_count": 5,
     "metadata": {},
     "output_type": "execute_result"
    }
   ],
   "source": [
    "names = [element.text.strip() for element in element_names]\n",
    "names"
   ]
  },
  {
   "cell_type": "code",
   "execution_count": 6,
   "metadata": {},
   "outputs": [
    {
     "data": {
      "text/plain": [
       "['driesvints',\n",
       " 'a8m',\n",
       " 'TomasVotruba',\n",
       " 'miekg',\n",
       " 'privatenumber',\n",
       " 'felangel',\n",
       " 'ludeeus',\n",
       " 'thomasloven',\n",
       " 'deadprogram',\n",
       " 'samuelcolvin',\n",
       " 'minad',\n",
       " 'LeCoupa',\n",
       " 'frostming',\n",
       " 'Mic92',\n",
       " 'mlocati',\n",
       " 'rwightman',\n",
       " 'ornicar',\n",
       " 'hrsh7th',\n",
       " 'xmatthias',\n",
       " 'onevcat',\n",
       " 'hrydgard',\n",
       " 'fonsp',\n",
       " 'arvidn',\n",
       " 'PedroBern',\n",
       " 'blakeblackshear']"
      ]
     },
     "execution_count": 6,
     "metadata": {},
     "output_type": "execute_result"
    }
   ],
   "source": [
    "alias = [element.text.strip() for element in element_alias]\n",
    "alias"
   ]
  },
  {
   "cell_type": "code",
   "execution_count": 7,
   "metadata": {},
   "outputs": [
    {
     "data": {
      "text/plain": [
       "['Dries Vints (driesvints)',\n",
       " 'Ariel Mashraki (a8m)',\n",
       " 'Tomas Votruba (TomasVotruba)',\n",
       " 'Miek Gieben (miekg)',\n",
       " 'hiroki (privatenumber)',\n",
       " 'Felix Angelov (felangel)',\n",
       " 'Joakim Sørensen (ludeeus)',\n",
       " 'Thomas Lovén (thomasloven)',\n",
       " 'Ron Evans (deadprogram)',\n",
       " 'Samuel Colvin (samuelcolvin)',\n",
       " 'Daniel Mendler (minad)',\n",
       " 'Julien Le Coupanec (LeCoupa)',\n",
       " 'Frost Ming (frostming)',\n",
       " 'Jörg Thalheim (Mic92)',\n",
       " 'Michele Locati (mlocati)',\n",
       " 'Ross Wightman (rwightman)',\n",
       " 'Thibault Duplessis (ornicar)',\n",
       " 'hrsh7th (hrsh7th)',\n",
       " 'Matthias (xmatthias)',\n",
       " 'Wei Wang (onevcat)',\n",
       " 'Henrik Rydgård (hrydgard)',\n",
       " 'Fons van der Plas (fonsp)',\n",
       " 'Arvid Norberg (arvidn)',\n",
       " 'pedrobern (PedroBern)',\n",
       " 'Blake Blackshear (blakeblackshear)']"
      ]
     },
     "execution_count": 7,
     "metadata": {},
     "output_type": "execute_result"
    }
   ],
   "source": [
    "result = [f'{n} ({a})' for n, a in zip(names, alias)]\n",
    "result"
   ]
  },
  {
   "cell_type": "markdown",
   "metadata": {},
   "source": [
    "#### Display the trending Python repositories in GitHub.\n",
    "\n",
    "The steps to solve this problem is similar to the previous one except that you need to find out the repository names instead of developer names."
   ]
  },
  {
   "cell_type": "code",
   "execution_count": 8,
   "metadata": {},
   "outputs": [
    {
     "data": {
      "text/plain": [
       "b'\\n\\n\\n\\n\\n<!DOCTYPE html>\\n<html lang=\"en\">\\n  <head>\\n    <meta charset=\"utf-8\">\\n  <link rel=\"dns-prefetch\" href=\"https://github.githubassets.com\">\\n  <link rel=\"dns-prefetch\" href=\"https://avatars.githubusercontent.com\">\\n  <link rel=\"dns-prefetch\" href=\"https://github-cloud.s3.amazonaws.com\">\\n  <link rel=\"dns-prefetch\" href=\"https://user-images.githubusercontent.com/\">\\n\\n\\n\\n  <link crossorigin=\"anonymous\" media=\"all\" integrity=\"sha512-bvmPnIfSXuQ7bosV8Ys+XNjZ7wqcfxwStr1JGjt4ibr/TK0ycsQZAYi4/4aziAgybJgv2/5+bw4lJF7CRSRs/g==\" rel=\"stylesheet\" href=\"https://github.githubassets.com/assets/frameworks-6ef98f9c87d25ee43b6e8b15f18b3e5c.css\" />\\n  <link crossorigin=\"anonymous\" media=\"all\" integrity=\"sha512-PObAHrL4OKl01ufePPCm+vqaVnCrRAIGNsZPDveS/cv3OKPgcJRVezq7u47Kki9TWFSBtMuLS0SaThM02rKakA==\" rel=\"stylesheet\" href=\"https://github.githubassets.com/assets/site-3ce6c01eb2f838a974d6e7de3cf0a6fa.css\" />\\n    <link crossorigin=\"anonymous\" media=\"all\" integrity=\"sha512-AlH6sUJvk90TnPJ2ZFUdLkcCgs4+wDdZ2K+R8q6z/6ObMisxDy+ZD1c+6qQoDZzDMFtQzgNHoXDfKxr9TCk1Nw==\" rel=\"stylesheet\" href=\"https://github.githubassets.com/assets/behaviors-0251fab1426f93dd139cf27664551d2e.css\" />\\n    \\n    \\n    \\n    <link crossorigin=\"anonymous\" media=\"all\" integrity=\"sha512-lUQtLBNfnPZGNrXZBdqsCclZ51MHfv5fM9S8DzawNSMbKNvMypo/v/ITnXoiXnuLeirFG84yqiWUsFWuyBoo/g==\" rel=\"stylesheet\" href=\"https://github.githubassets.com/assets/github-95442d2c135f9cf64636b5d905daac09.css\" />\\n\\n  <script crossorigin=\"anonymous\" defer=\"defer\" integrity=\"sha512-8K2vvwbW+6H27Nad5ydg8PA2/aMD/LKq+EiK9s0U0hhVZxCI2tWBsYk9beAtisRw2j+Or5k2/F+6dk02nmj/PA==\" type=\"application/javascript\" src=\"https://github.githubassets.com/assets/environment-f0adafbf.js\"></script>\\n    <script crossorigin=\"anonymous\" defer=\"defer\" integrity=\"sha512-uegmzg6YcTlTw7auMhvPV/UsnZ1KDIdAWhaEI/R8dHN24lz0HyO2tGwv0e2gdPoMXA6AzXeJng5gP77sAU3AgA==\" type=\"application/javascript\" src=\"https://github.githubassets.com/assets/chunk-frameworks-b9e826ce.js\"></script>\\n    <script crossorigin=\"anonymous\" defer=\"defer\" integrity=\"sha512-QXxaMILp0DfaYUxUog6M69IOSK5od+MvC5CmNNsq0/QEE1oBJ9p85IQtyXIHCUaix0dF6sueet58Mpo0TOr/zg==\" type=\"application/javascript\" src=\"https://github.githubassets.com/assets/chunk-vendor-417c5a30.js\"></script>\\n  \\n  <script crossorigin=\"anonymous\" defer=\"defer\" integrity=\"sha512-rgQAjOPwcGvfcLHvGy+bY9V+kCoI6kBssVpnNL5FYlM4245ONAmGh8zs9n4lUvIRLfi6XmaUzuB0WINS2s0WWQ==\" type=\"application/javascript\" src=\"https://github.githubassets.com/assets/behaviors-ae04008c.js'"
      ]
     },
     "execution_count": 8,
     "metadata": {},
     "output_type": "execute_result"
    }
   ],
   "source": [
    "# This is the url you will scrape in this exercise\n",
    "url = 'https://github.com/trending/python?since=daily'\n",
    "html = requests.get(url).content\n",
    "html[:2500]"
   ]
  },
  {
   "cell_type": "code",
   "execution_count": 9,
   "metadata": {},
   "outputs": [
    {
     "data": {
      "text/plain": [
       "['3b1b /\\n\\n      manim',\n",
       " 'TheAlgorithms /\\n\\n      Python',\n",
       " 'tensortrade-org /\\n\\n      tensortrade',\n",
       " 'richardclegg /\\n\\n      vis_route',\n",
       " 'NPCat /\\n\\n      bad-apple-bot',\n",
       " 'HashPals /\\n\\n      Name-That-Hash',\n",
       " 'numpy /\\n\\n      numpy',\n",
       " 'aws-samples /\\n\\n      aws-dev-hour-backend',\n",
       " 'mrjbq7 /\\n\\n      ta-lib',\n",
       " 'vinta /\\n\\n      awesome-python',\n",
       " 'donnemartin /\\n\\n      system-design-primer',\n",
       " 'brndnmtthws /\\n\\n      thetagang',\n",
       " 'sdushantha /\\n\\n      wifi-password',\n",
       " 'beurtschipper /\\n\\n      Depix',\n",
       " 'raminmh /\\n\\n      liquid_time_constant_networks',\n",
       " 'Z4nzu /\\n\\n      hackingtool',\n",
       " 'dupontgu /\\n\\n      retro-ipod-spotify-client',\n",
       " 'raspberrypi /\\n\\n      pico-micropython-examples',\n",
       " 'FengQuanLi /\\n\\n      ResnetGPT',\n",
       " 'ankitects /\\n\\n      anki',\n",
       " 'projectdiscovery /\\n\\n      nuclei-templates',\n",
       " 'davidbombal /\\n\\n      red-python-scripts',\n",
       " 'home-assistant /\\n\\n      core',\n",
       " 'sgrvinod /\\n\\n      a-PyTorch-Tutorial-to-Image-Captioning',\n",
       " 'optuna /\\n\\n      optuna']"
      ]
     },
     "execution_count": 9,
     "metadata": {},
     "output_type": "execute_result"
    }
   ],
   "source": [
    "soup = BeautifulSoup(html, 'html.parser')\n",
    "repo_name = soup.select(\"article h1.h3.lh-condensed\")\n",
    "repo_name_lst = [repo.text.strip() for repo in repo_name]\n",
    "repo_name_lst"
   ]
  },
  {
   "cell_type": "code",
   "execution_count": 10,
   "metadata": {},
   "outputs": [
    {
     "data": {
      "text/plain": [
       "['3b1b / manim',\n",
       " 'TheAlgorithms / Python',\n",
       " 'tensortrade-org / tensortrade',\n",
       " 'richardclegg / vis_route',\n",
       " 'NPCat / bad-apple-bot',\n",
       " 'HashPals / Name-That-Hash',\n",
       " 'numpy / numpy',\n",
       " 'aws-samples / aws-dev-hour-backend',\n",
       " 'mrjbq7 / ta-lib',\n",
       " 'vinta / awesome-python',\n",
       " 'donnemartin / system-design-primer',\n",
       " 'brndnmtthws / thetagang',\n",
       " 'sdushantha / wifi-password',\n",
       " 'beurtschipper / Depix',\n",
       " 'raminmh / liquid_time_constant_networks',\n",
       " 'Z4nzu / hackingtool',\n",
       " 'dupontgu / retro-ipod-spotify-client',\n",
       " 'raspberrypi / pico-micropython-examples',\n",
       " 'FengQuanLi / ResnetGPT',\n",
       " 'ankitects / anki',\n",
       " 'projectdiscovery / nuclei-templates',\n",
       " 'davidbombal / red-python-scripts',\n",
       " 'home-assistant / core',\n",
       " 'sgrvinod / a-PyTorch-Tutorial-to-Image-Captioning',\n",
       " 'optuna / optuna']"
      ]
     },
     "execution_count": 10,
     "metadata": {},
     "output_type": "execute_result"
    }
   ],
   "source": [
    "result = [i.replace('\\n\\n     ', '') for i in repo_name_lst]\n",
    "result"
   ]
  },
  {
   "cell_type": "markdown",
   "metadata": {},
   "source": [
    "#### Display all the image links from Walt Disney wikipedia page."
   ]
  },
  {
   "cell_type": "code",
   "execution_count": 11,
   "metadata": {},
   "outputs": [
    {
     "data": {
      "text/plain": [
       "b'<!DOCTYPE html>\\n<html class=\"client-nojs\" lang=\"en\" dir=\"ltr\">\\n<head>\\n<meta charset=\"UTF-8\"/>\\n<title>Walt Disney - Wikipedia</title>\\n<script>document.documentElement.className=\"client-js\";RLCONF={\"wgBreakFrames\":!1,\"wgSeparatorTransformTable\":[\"\",\"\"],\"wgDigitTransformTable\":[\"\",\"\"],\"wgDefaultDateFormat\":\"dmy\",\"wgMonthNames\":[\"\",\"January\",\"February\",\"March\",\"April\",\"May\",\"June\",\"July\",\"August\",\"September\",\"October\",\"November\",\"December\"],\"wgRequestId\":\"YBjpwQpAEJsAASlSWq8AAABU\",\"wgCSPNonce\":!1,\"wgCanonicalNamespace\":\"\",\"wgCanonicalSpecialPageName\":!1,\"wgNamespaceNumber\":0,\"wgPageName\":\"Walt_Disney\",\"wgTitle\":\"Walt Disney\",\"wgCurRevisionId\":1004323407,\"wgRevisionId\":1004323407,\"wgArticleId\":32917,\"wgIsArticle\":!0,\"wgIsRedirect\":!1,\"wgAction\":\"view\",\"wgUserName\":null,\"wgUserGroups\":[\"*\"],\"wgCategories\":[\"Pages containing links to subscription-only content\",\"Articles with short description\",\"Short description is different from Wikidata\",\"Wikipedia extended-confirmed-protected pages\",\"Wikipedia indefinitely move-protected pages\",\"Featured articles\",\"Use mdy dates from November 2020\",\\n\"Use American English from May 2016\",\"All Wikipedia articles written in American English\",\"Biography with signature\",\"Articles with hCards\",\"Articles containing German-language text\",\"Articles containing French-language text\",\"Articles containing Spanish-language text\",\"Articles using Template:The Interviews people\",\"Wikipedia articles with AAG identifiers\",\"Wikipedia articles with BIBSYS identifiers\",\"Wikipedia articles with BNE identifiers\",\"Wikipedia articles with BNF identifiers\",\"Wikipedia articles with CANTIC identifiers\",\"Wikipedia articles with CINII identifiers\",\"Wikipedia articles with GND identifiers\",\"Wikipedia articles with ISNI identifiers\",\"Wikipedia articles with LCCN identifiers\",\"Wikipedia articles with MusicBrainz identifiers\",\"Wikipedia articles with NARA identifiers\",\"Wikipedia articles with NDL identifiers\",\"Wikipedia articles with NKC identifiers\",\"Wikipedia articles with NLA identifiers\",\"Wikipedia articles with NLI identifiers\",\\n\"Wikipedia articles with NLK identifiers\",\"Wikipedia articles with NLR identifiers\",\"Wikipedia articles with NTA identifiers\",\"Wikipedia articles with PIC identifiers\",\"Wikipedia articles with PLWABN identifiers\",\"Wikipedia articles with RKDartists identifiers\",\"Wikipedia articles with SELIBR identifiers\",\"Wikipedia articles with SNAC-ID identifiers\",\"Wikipedia articles with SUDOC identifiers\",\"Wikipedia articles with Trove identifi'"
      ]
     },
     "execution_count": 11,
     "metadata": {},
     "output_type": "execute_result"
    }
   ],
   "source": [
    "# This is the url you will scrape in this exercise\n",
    "url = 'https://en.wikipedia.org/wiki/Walt_Disney'\n",
    "html = requests.get(url).content\n",
    "html[:2500]"
   ]
  },
  {
   "cell_type": "code",
   "execution_count": 12,
   "metadata": {},
   "outputs": [
    {
     "data": {
      "text/plain": [
       "['/wiki/File:Walt_Disney_1946.JPG',\n",
       " '/wiki/File:Walt_Disney_1942_signature.svg',\n",
       " '/wiki/File:Walt_Disney_envelope_ca._1921.jpg',\n",
       " '/wiki/File:Trolley_Troubles_poster.jpg',\n",
       " '/wiki/File:Walt_Disney_and_his_cartoon_creation_%22Mickey_Mouse%22_-_National_Board_of_Review_Magazine.jpg',\n",
       " '/wiki/File:Steamboat-willie.jpg',\n",
       " '/wiki/File:Walt_Disney_1935.jpg',\n",
       " '/wiki/File:Walt_Disney_Snow_white_1937_trailer_screenshot_(13).jpg',\n",
       " '/wiki/File:Disney_drawing_goofy.jpg',\n",
       " '/wiki/File:DisneySchiphol1951.jpg',\n",
       " '/wiki/File:WaltDisneyplansDisneylandDec1954.jpg',\n",
       " '/wiki/File:Walt_disney_portrait_right.jpg',\n",
       " '/wiki/File:Walt_Disney_Grave.JPG',\n",
       " '/wiki/File:Roy_O._Disney_with_Company_at_Press_Conference.jpg',\n",
       " '/wiki/File:Disney_Display_Case.JPG',\n",
       " '/wiki/File:Disney1968.jpg',\n",
       " '/wiki/File:Animation_disc.svg',\n",
       " '/wiki/File:P_vip.svg',\n",
       " '/wiki/File:Magic_Kingdom_castle.jpg',\n",
       " '/wiki/File:Video-x-generic.svg',\n",
       " '/wiki/File:Flag_of_Los_Angeles_County,_California.svg',\n",
       " '/wiki/File:Blank_television_set.svg',\n",
       " '/wiki/File:Flag_of_the_United_States.svg']"
      ]
     },
     "execution_count": 12,
     "metadata": {},
     "output_type": "execute_result"
    }
   ],
   "source": [
    "soup = BeautifulSoup(html, 'html.parser')\n",
    "images = soup.find_all('a', {'class': 'image'})\n",
    "\n",
    "link_lst = []\n",
    "\n",
    "for i in range(len(images)):\n",
    "    \n",
    "    add_images = images[i].attrs['href']\n",
    "    link_lst.append(add_images)\n",
    "    \n",
    "link_lst\n",
    "    \n",
    "    "
   ]
  },
  {
   "cell_type": "markdown",
   "metadata": {},
   "source": [
    "#### Retrieve an arbitary Wikipedia page of \"Python\" and create a list of links on that page."
   ]
  },
  {
   "cell_type": "code",
   "execution_count": 13,
   "metadata": {},
   "outputs": [],
   "source": [
    "# This is the url you will scrape in this exercise\n",
    "url ='https://en.wikipedia.org/wiki/Python' "
   ]
  },
  {
   "cell_type": "code",
   "execution_count": 14,
   "metadata": {},
   "outputs": [
    {
     "data": {
      "text/plain": [
       "['https://en.wiktionary.org/wiki/Python',\n",
       " 'https://en.wiktionary.org/wiki/python',\n",
       " 'https://en.wikipedia.org/w/index.php?title=Special:WhatLinksHere/Python&namespace=0',\n",
       " 'https://en.wikipedia.org/w/index.php?title=Python&oldid=997582414',\n",
       " 'https://donate.wikimedia.org/wiki/Special:FundraiserRedirector?utm_source=donate&utm_medium=sidebar&utm_campaign=C13_en.wikipedia.org&uselang=en',\n",
       " 'https://www.wikidata.org/wiki/Special:EntityPage/Q747452',\n",
       " 'https://commons.wikimedia.org/wiki/Category:Python',\n",
       " 'https://af.wikipedia.org/wiki/Python',\n",
       " 'https://als.wikipedia.org/wiki/Python',\n",
       " 'https://ar.wikipedia.org/wiki/%D8%A8%D8%A7%D9%8A%D8%AB%D9%88%D9%86_(%D8%AA%D9%88%D8%B6%D9%8A%D8%AD)',\n",
       " 'https://az.wikipedia.org/wiki/Python',\n",
       " 'https://bn.wikipedia.org/wiki/%E0%A6%AA%E0%A6%BE%E0%A6%87%E0%A6%A5%E0%A6%A8_(%E0%A6%A6%E0%A7%8D%E0%A6%AC%E0%A7%8D%E0%A6%AF%E0%A6%B0%E0%A7%8D%E0%A6%A5%E0%A6%A4%E0%A6%BE_%E0%A6%A8%E0%A6%BF%E0%A6%B0%E0%A6%B8%E0%A6%A8)',\n",
       " 'https://be.wikipedia.org/wiki/Python',\n",
       " 'https://bg.wikipedia.org/wiki/%D0%9F%D0%B8%D1%82%D0%BE%D0%BD_(%D0%BF%D0%BE%D1%8F%D1%81%D0%BD%D0%B5%D0%BD%D0%B8%D0%B5)',\n",
       " 'https://cs.wikipedia.org/wiki/Python_(rozcestn%C3%ADk)',\n",
       " 'https://da.wikipedia.org/wiki/Python',\n",
       " 'https://de.wikipedia.org/wiki/Python',\n",
       " 'https://eo.wikipedia.org/wiki/Pitono_(apartigilo)',\n",
       " 'https://eu.wikipedia.org/wiki/Python_(argipena)',\n",
       " 'https://fa.wikipedia.org/wiki/%D9%BE%D8%A7%DB%8C%D8%AA%D9%88%D9%86',\n",
       " 'https://fr.wikipedia.org/wiki/Python',\n",
       " 'https://ko.wikipedia.org/wiki/%ED%8C%8C%EC%9D%B4%EC%84%A0',\n",
       " 'https://hr.wikipedia.org/wiki/Python_(razdvojba)',\n",
       " 'https://io.wikipedia.org/wiki/Pitono',\n",
       " 'https://id.wikipedia.org/wiki/Python',\n",
       " 'https://ia.wikipedia.org/wiki/Python_(disambiguation)',\n",
       " 'https://is.wikipedia.org/wiki/Python_(a%C3%B0greining)',\n",
       " 'https://it.wikipedia.org/wiki/Python_(disambigua)',\n",
       " 'https://he.wikipedia.org/wiki/%D7%A4%D7%99%D7%AA%D7%95%D7%9F',\n",
       " 'https://ka.wikipedia.org/wiki/%E1%83%9E%E1%83%98%E1%83%97%E1%83%9D%E1%83%9C%E1%83%98_(%E1%83%9B%E1%83%A0%E1%83%90%E1%83%95%E1%83%90%E1%83%9A%E1%83%9B%E1%83%9C%E1%83%98%E1%83%A8%E1%83%95%E1%83%9C%E1%83%94%E1%83%9A%E1%83%9D%E1%83%95%E1%83%90%E1%83%9C%E1%83%98)',\n",
       " 'https://kg.wikipedia.org/wiki/Mboma_(nyoka)',\n",
       " 'https://la.wikipedia.org/wiki/Python_(discretiva)',\n",
       " 'https://lb.wikipedia.org/wiki/Python',\n",
       " 'https://hu.wikipedia.org/wiki/Python_(egy%C3%A9rtelm%C5%B1s%C3%ADt%C5%91_lap)',\n",
       " 'https://mr.wikipedia.org/wiki/%E0%A4%AA%E0%A4%BE%E0%A4%AF%E0%A4%A5%E0%A5%89%E0%A4%A8_(%E0%A4%86%E0%A4%9C%E0%A5%8D%E0%A4%9E%E0%A4%BE%E0%A4%B5%E0%A4%B2%E0%A5%80_%E0%A4%AD%E0%A4%BE%E0%A4%B7%E0%A4%BE)',\n",
       " 'https://nl.wikipedia.org/wiki/Python',\n",
       " 'https://ja.wikipedia.org/wiki/%E3%83%91%E3%82%A4%E3%82%BD%E3%83%B3',\n",
       " 'https://no.wikipedia.org/wiki/Pyton',\n",
       " 'https://pl.wikipedia.org/wiki/Pyton',\n",
       " 'https://pt.wikipedia.org/wiki/Python_(desambigua%C3%A7%C3%A3o)',\n",
       " 'https://ru.wikipedia.org/wiki/Python_(%D0%B7%D0%BD%D0%B0%D1%87%D0%B5%D0%BD%D0%B8%D1%8F)',\n",
       " 'https://sk.wikipedia.org/wiki/Python',\n",
       " 'https://sr.wikipedia.org/wiki/%D0%9F%D0%B8%D1%82%D0%BE%D0%BD_(%D0%B2%D0%B8%D1%88%D0%B5%D0%B7%D0%BD%D0%B0%D1%87%D0%BD%D0%B0_%D0%BE%D0%B4%D1%80%D0%B5%D0%B4%D0%BD%D0%B8%D1%86%D0%B0)',\n",
       " 'https://sh.wikipedia.org/wiki/Python',\n",
       " 'https://fi.wikipedia.org/wiki/Python',\n",
       " 'https://sv.wikipedia.org/wiki/Pyton',\n",
       " 'https://th.wikipedia.org/wiki/%E0%B9%84%E0%B8%9E%E0%B8%97%E0%B8%AD%E0%B8%99',\n",
       " 'https://tr.wikipedia.org/wiki/Python',\n",
       " 'https://uk.wikipedia.org/wiki/%D0%9F%D1%96%D1%84%D0%BE%D0%BD',\n",
       " 'https://ur.wikipedia.org/wiki/%D9%BE%D8%A7%D8%A6%DB%8C%D8%AA%DA%BE%D9%88%D9%86',\n",
       " 'https://vi.wikipedia.org/wiki/Python',\n",
       " 'https://zh.wikipedia.org/wiki/Python_(%E6%B6%88%E6%AD%A7%E4%B9%89)',\n",
       " 'https://www.wikidata.org/wiki/Special:EntityPage/Q747452#sitelinks-wikipedia',\n",
       " 'https://foundation.wikimedia.org/wiki/Privacy_policy',\n",
       " 'https://www.mediawiki.org/wiki/Special:MyLanguage/How_to_contribute',\n",
       " 'https://stats.wikimedia.org/#/en.wikipedia.org',\n",
       " 'https://foundation.wikimedia.org/wiki/Cookie_statement',\n",
       " 'https://wikimediafoundation.org/',\n",
       " 'https://www.mediawiki.org/']"
      ]
     },
     "execution_count": 14,
     "metadata": {},
     "output_type": "execute_result"
    }
   ],
   "source": [
    "# your code here\n",
    "\n",
    "html = requests.get(url).content\n",
    "html[:2500]\n",
    "\n",
    "soup = BeautifulSoup(html, 'html.parser')\n",
    "links = soup.find_all('div', {'class': 'mw-parser-output'})\n",
    "links\n",
    "\n",
    "python_lst = [i['href'] for i in soup.find_all('a', href=True)]\n",
    "\n",
    "python_link_lst = [x for x in python_lst if x.startswith('https')]\n",
    "python_link_lst\n",
    "\n",
    "#     python_lst.append(add_links)\n",
    "    \n",
    "# python_lst\n",
    "    "
   ]
  },
  {
   "cell_type": "markdown",
   "metadata": {},
   "source": [
    "#### Find the number of titles that have changed in the United States Code since its last release point."
   ]
  },
  {
   "cell_type": "code",
   "execution_count": 15,
   "metadata": {},
   "outputs": [],
   "source": [
    "# This is the url you will scrape in this exercise\n",
    "url = 'http://uscode.house.gov/download/download.shtml'"
   ]
  },
  {
   "cell_type": "code",
   "execution_count": 16,
   "metadata": {},
   "outputs": [
    {
     "data": {
      "text/plain": [
       "['Title 6 - Domestic Security',\n",
       " 'Title 10 - Armed Forces ٭',\n",
       " 'Title 15 - Commerce and Trade',\n",
       " 'Title 20 - Education',\n",
       " 'Title 28 - Judiciary and Judicial Procedure ٭',\n",
       " 'Title 31 - Money and Finance ٭',\n",
       " 'Title 33 - Navigation and Navigable Waters',\n",
       " 'Title 36 - Patriotic and National Observances, Ceremonies, and Organizations ٭',\n",
       " 'Title 37 - Pay and Allowances of the Uniformed Services ٭',\n",
       " \"Title 38 - Veterans' Benefits ٭\",\n",
       " 'Title 40 - Public Buildings, Property, and Works ٭',\n",
       " 'Title 46 - Shipping ٭']"
      ]
     },
     "execution_count": 16,
     "metadata": {},
     "output_type": "execute_result"
    }
   ],
   "source": [
    "# your code here\n",
    "import re\n",
    "\n",
    "html = requests.get(url).content\n",
    "html[:2500]\n",
    "\n",
    "soup = BeautifulSoup(html, 'html.parser')\n",
    "table_raw = soup.find_all('div', {'class': 'usctitlechanged'})\n",
    "\n",
    "titles_table = [x.text.strip() for x in table_raw]\n",
    "titles_table\n",
    "\n"
   ]
  },
  {
   "cell_type": "markdown",
   "metadata": {},
   "source": [
    "#### Find a Python list with the top ten FBI's Most Wanted names."
   ]
  },
  {
   "cell_type": "code",
   "execution_count": 17,
   "metadata": {},
   "outputs": [],
   "source": [
    "# This is the url you will scrape in this exercise\n",
    "url = 'https://www.fbi.gov/wanted/topten'"
   ]
  },
  {
   "cell_type": "code",
   "execution_count": 18,
   "metadata": {},
   "outputs": [
    {
     "data": {
      "text/plain": [
       "['ALEJANDRO ROSALES CASTILLO',\n",
       " 'ARNOLDO JIMENEZ',\n",
       " 'JASON DEREK BROWN',\n",
       " 'ALEXIS FLORES',\n",
       " 'JOSE RODOLFO VILLARREAL-HERNANDEZ',\n",
       " 'EUGENE PALMER',\n",
       " 'RAFAEL CARO-QUINTERO',\n",
       " 'ROBERT WILLIAM FISHER',\n",
       " 'BHADRESHKUMAR CHETANBHAI PATEL',\n",
       " 'YASER ABDEL SAID']"
      ]
     },
     "execution_count": 18,
     "metadata": {},
     "output_type": "execute_result"
    }
   ],
   "source": [
    "# your code here\n",
    "\n",
    "html = requests.get(url).content\n",
    "html[:2500]\n",
    "\n",
    "soup = BeautifulSoup(html, 'html.parser')\n",
    "top_fbi = soup.find_all('li', {'class': 'portal-type-person'})\n",
    "\n",
    "top_fbi_names = [x.text.strip() for x in top_fbi]\n",
    "top_fbi_names"
   ]
  },
  {
   "cell_type": "markdown",
   "metadata": {},
   "source": [
    "####  Display the 20 latest earthquakes info (date, time, latitude, longitude and region name) by the EMSC as a pandas dataframe."
   ]
  },
  {
   "cell_type": "code",
   "execution_count": null,
   "metadata": {},
   "outputs": [],
   "source": [
    "# This is the url you will scrape in this exercise\n",
    "url = 'https://www.emsc-csem.org/Earthquake/'"
   ]
  },
  {
   "cell_type": "code",
   "execution_count": null,
   "metadata": {},
   "outputs": [],
   "source": [
    "# your code here"
   ]
  },
  {
   "cell_type": "markdown",
   "metadata": {},
   "source": [
    "#### Count the number of tweets by a given Twitter account.\n",
    "Ask the user for the handle (@handle) of a twitter account. You will need to include a ***try/except block*** for account names not found. \n",
    "<br>***Hint:*** the program should count the number of tweets for any provided account."
   ]
  },
  {
   "cell_type": "code",
   "execution_count": null,
   "metadata": {},
   "outputs": [],
   "source": [
    "# This is the url you will scrape in this exercise \n",
    "# You will need to add the account credentials to this url\n",
    "url = 'https://twitter.com/'"
   ]
  },
  {
   "cell_type": "code",
   "execution_count": null,
   "metadata": {},
   "outputs": [],
   "source": [
    "# your code here"
   ]
  },
  {
   "cell_type": "markdown",
   "metadata": {},
   "source": [
    "#### Number of followers of a given twitter account\n",
    "Ask the user for the handle (@handle) of a twitter account. You will need to include a ***try/except block*** for account names not found. \n",
    "<br>***Hint:*** the program should count the followers for any provided account."
   ]
  },
  {
   "cell_type": "code",
   "execution_count": null,
   "metadata": {},
   "outputs": [],
   "source": [
    "# This is the url you will scrape in this exercise \n",
    "# You will need to add the account credentials to this url\n",
    "url = 'https://twitter.com/'"
   ]
  },
  {
   "cell_type": "code",
   "execution_count": null,
   "metadata": {},
   "outputs": [],
   "source": [
    "# your code here"
   ]
  },
  {
   "cell_type": "markdown",
   "metadata": {},
   "source": [
    "#### List all language names and number of related articles in the order they appear in wikipedia.org."
   ]
  },
  {
   "cell_type": "code",
   "execution_count": null,
   "metadata": {},
   "outputs": [],
   "source": [
    "# This is the url you will scrape in this exercise\n",
    "url = 'https://www.wikipedia.org/'"
   ]
  },
  {
   "cell_type": "code",
   "execution_count": null,
   "metadata": {},
   "outputs": [],
   "source": [
    "# your code here"
   ]
  },
  {
   "cell_type": "markdown",
   "metadata": {},
   "source": [
    "#### A list with the different kind of datasets available in data.gov.uk."
   ]
  },
  {
   "cell_type": "code",
   "execution_count": null,
   "metadata": {},
   "outputs": [],
   "source": [
    "# This is the url you will scrape in this exercise\n",
    "url = 'https://data.gov.uk/'"
   ]
  },
  {
   "cell_type": "code",
   "execution_count": null,
   "metadata": {},
   "outputs": [],
   "source": [
    "# your code here"
   ]
  },
  {
   "cell_type": "markdown",
   "metadata": {},
   "source": [
    "#### Display the top 10 languages by number of native speakers stored in a pandas dataframe."
   ]
  },
  {
   "cell_type": "code",
   "execution_count": null,
   "metadata": {},
   "outputs": [],
   "source": [
    "# This is the url you will scrape in this exercise\n",
    "url = 'https://en.wikipedia.org/wiki/List_of_languages_by_number_of_native_speakers'"
   ]
  },
  {
   "cell_type": "code",
   "execution_count": null,
   "metadata": {},
   "outputs": [],
   "source": [
    "# your code here"
   ]
  },
  {
   "cell_type": "markdown",
   "metadata": {},
   "source": [
    "## Bonus\n",
    "#### Scrape a certain number of tweets of a given Twitter account."
   ]
  },
  {
   "cell_type": "code",
   "execution_count": null,
   "metadata": {},
   "outputs": [],
   "source": [
    "# This is the url you will scrape in this exercise \n",
    "# You will need to add the account credentials to this url\n",
    "url = 'https://twitter.com/'"
   ]
  },
  {
   "cell_type": "code",
   "execution_count": null,
   "metadata": {},
   "outputs": [],
   "source": [
    "# your code here"
   ]
  },
  {
   "cell_type": "markdown",
   "metadata": {},
   "source": [
    "#### Display IMDB's top 250 data (movie name, initial release, director name and stars) as a pandas dataframe."
   ]
  },
  {
   "cell_type": "code",
   "execution_count": null,
   "metadata": {},
   "outputs": [],
   "source": [
    "# This is the url you will scrape in this exercise \n",
    "url = 'https://www.imdb.com/chart/top'"
   ]
  },
  {
   "cell_type": "code",
   "execution_count": null,
   "metadata": {},
   "outputs": [],
   "source": [
    "# your code here"
   ]
  },
  {
   "cell_type": "markdown",
   "metadata": {},
   "source": [
    "#### Display the movie name, year and a brief summary of the top 10 random movies (IMDB) as a pandas dataframe."
   ]
  },
  {
   "cell_type": "code",
   "execution_count": null,
   "metadata": {},
   "outputs": [],
   "source": [
    "#This is the url you will scrape in this exercise\n",
    "url = 'http://www.imdb.com/chart/top'"
   ]
  },
  {
   "cell_type": "code",
   "execution_count": null,
   "metadata": {},
   "outputs": [],
   "source": [
    "# your code here"
   ]
  },
  {
   "cell_type": "markdown",
   "metadata": {},
   "source": [
    "#### Find the live weather report (temperature, wind speed, description and weather) of a given city."
   ]
  },
  {
   "cell_type": "code",
   "execution_count": null,
   "metadata": {},
   "outputs": [],
   "source": [
    "#https://openweathermap.org/current\n",
    "city = input('Enter the city: ')\n",
    "url = 'http://api.openweathermap.org/data/2.5/weather?'+'q='+city+'&APPID=b35975e18dc93725acb092f7272cc6b8&units=metric'"
   ]
  },
  {
   "cell_type": "code",
   "execution_count": null,
   "metadata": {},
   "outputs": [],
   "source": [
    "# your code here"
   ]
  },
  {
   "cell_type": "markdown",
   "metadata": {},
   "source": [
    "#### Find the book name, price and stock availability as a pandas dataframe."
   ]
  },
  {
   "cell_type": "code",
   "execution_count": null,
   "metadata": {},
   "outputs": [],
   "source": [
    "# This is the url you will scrape in this exercise. \n",
    "# It is a fictional bookstore created to be scraped. \n",
    "url = 'http://books.toscrape.com/'"
   ]
  },
  {
   "cell_type": "code",
   "execution_count": null,
   "metadata": {},
   "outputs": [],
   "source": [
    "# your code here"
   ]
  }
 ],
 "metadata": {
  "kernelspec": {
   "display_name": "Python [conda env:ironhack_env]",
   "language": "python",
   "name": "conda-env-ironhack_env-py"
  },
  "language_info": {
   "codemirror_mode": {
    "name": "ipython",
    "version": 3
   },
   "file_extension": ".py",
   "mimetype": "text/x-python",
   "name": "python",
   "nbconvert_exporter": "python",
   "pygments_lexer": "ipython3",
   "version": "3.8.5"
  }
 },
 "nbformat": 4,
 "nbformat_minor": 4
}
